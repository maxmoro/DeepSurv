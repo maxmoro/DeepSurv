{
  "nbformat": 4,
  "nbformat_minor": 0,
  "metadata": {
    "anaconda-cloud": {},
    "kernelspec": {
      "display_name": "Python 3",
      "language": "python",
      "name": "python3"
    },
    "language_info": {
      "codemirror_mode": {
        "name": "ipython",
        "version": 3
      },
      "file_extension": ".py",
      "mimetype": "text/x-python",
      "name": "python",
      "nbconvert_exporter": "python",
      "pygments_lexer": "ipython3",
      "version": "3.7.4"
    },
    "colab": {
      "name": "DeepSurv Example.ipynb",
      "provenance": [],
      "include_colab_link": true
    }
  },
  "cells": [
    {
      "cell_type": "markdown",
      "metadata": {
        "id": "view-in-github",
        "colab_type": "text"
      },
      "source": [
        "<a href=\"https://colab.research.google.com/github/maxmoro/DeepSurvMax/blob/master/test/DeepSurv%20Example.ipynb\" target=\"_parent\"><img src=\"https://colab.research.google.com/assets/colab-badge.svg\" alt=\"Open In Colab\"/></a>"
      ]
    },
    {
      "cell_type": "code",
      "metadata": {
        "jupyter": {
          "outputs_hidden": false
        },
        "id": "cEyzLEKgBb9p",
        "colab_type": "code",
        "colab": {}
      },
      "source": [
        "# Use DeepSurv from the repo\n",
        "import sys\n",
        "sys.path.append('../deepsurv') \n",
        "import deepsurv\n",
        "\n",
        "from deepsurv_logger import DeepSurvLogger, TensorboardLogger\n",
        "import utils\n",
        "import viz\n",
        "\n",
        "import numpy as np\n",
        "import pandas as pd\n",
        "\n",
        "import lasagne\n",
        "import matplotlib\n",
        "import matplotlib.pyplot as plt\n",
        "%matplotlib inline\n"
      ],
      "execution_count": 0,
      "outputs": []
    },
    {
      "cell_type": "markdown",
      "metadata": {
        "id": "1CN5dQG4Bb9u",
        "colab_type": "text"
      },
      "source": [
        "# Read in dataset\n",
        "First, I read in the dataset and print the first five elements to get a sense of what the dataset looks like"
      ]
    },
    {
      "cell_type": "code",
      "metadata": {
        "jupyter": {
          "outputs_hidden": false
        },
        "id": "wcwJYSnnBb9v",
        "colab_type": "code",
        "colab": {},
        "outputId": "b9076556-a5fc-4917-efeb-9ab6b6be08f0"
      },
      "source": [
        "train_dataset_fp = 'example_data.csv'\n",
        "train_df = pd.read_csv(train_dataset_fp)\n",
        "train_df.head()"
      ],
      "execution_count": 0,
      "outputs": [
        {
          "output_type": "execute_result",
          "data": {
            "text/html": [
              "<div>\n",
              "<style scoped>\n",
              "    .dataframe tbody tr th:only-of-type {\n",
              "        vertical-align: middle;\n",
              "    }\n",
              "\n",
              "    .dataframe tbody tr th {\n",
              "        vertical-align: top;\n",
              "    }\n",
              "\n",
              "    .dataframe thead th {\n",
              "        text-align: right;\n",
              "    }\n",
              "</style>\n",
              "<table border=\"1\" class=\"dataframe\">\n",
              "  <thead>\n",
              "    <tr style=\"text-align: right;\">\n",
              "      <th></th>\n",
              "      <th>Variable_1</th>\n",
              "      <th>Variable_2</th>\n",
              "      <th>Variable_3</th>\n",
              "      <th>Variable_4</th>\n",
              "      <th>Event</th>\n",
              "      <th>Time</th>\n",
              "    </tr>\n",
              "  </thead>\n",
              "  <tbody>\n",
              "    <tr>\n",
              "      <td>0</td>\n",
              "      <td>0</td>\n",
              "      <td>3</td>\n",
              "      <td>2</td>\n",
              "      <td>4.6</td>\n",
              "      <td>1</td>\n",
              "      <td>43</td>\n",
              "    </tr>\n",
              "    <tr>\n",
              "      <td>1</td>\n",
              "      <td>0</td>\n",
              "      <td>2</td>\n",
              "      <td>0</td>\n",
              "      <td>1.6</td>\n",
              "      <td>0</td>\n",
              "      <td>52</td>\n",
              "    </tr>\n",
              "    <tr>\n",
              "      <td>2</td>\n",
              "      <td>0</td>\n",
              "      <td>3</td>\n",
              "      <td>0</td>\n",
              "      <td>3.5</td>\n",
              "      <td>1</td>\n",
              "      <td>73</td>\n",
              "    </tr>\n",
              "    <tr>\n",
              "      <td>3</td>\n",
              "      <td>0</td>\n",
              "      <td>3</td>\n",
              "      <td>1</td>\n",
              "      <td>5.1</td>\n",
              "      <td>0</td>\n",
              "      <td>51</td>\n",
              "    </tr>\n",
              "    <tr>\n",
              "      <td>4</td>\n",
              "      <td>0</td>\n",
              "      <td>2</td>\n",
              "      <td>0</td>\n",
              "      <td>1.7</td>\n",
              "      <td>0</td>\n",
              "      <td>51</td>\n",
              "    </tr>\n",
              "  </tbody>\n",
              "</table>\n",
              "</div>"
            ],
            "text/plain": [
              "   Variable_1   Variable_2  Variable_3  Variable_4  Event  Time\n",
              "0            0           3           2         4.6      1    43\n",
              "1            0           2           0         1.6      0    52\n",
              "2            0           3           0         3.5      1    73\n",
              "3            0           3           1         5.1      0    51\n",
              "4            0           2           0         1.7      0    51"
            ]
          },
          "metadata": {
            "tags": []
          },
          "execution_count": 2
        }
      ]
    },
    {
      "cell_type": "markdown",
      "metadata": {
        "id": "c2aMLLHABb9x",
        "colab_type": "text"
      },
      "source": [
        "# Transform the dataset to \"DeepSurv\" format\n",
        "DeepSurv expects a dataset to be in the form:\n",
        "\n",
        "    {\n",
        "        'x': numpy array of float32\n",
        "        'e': numpy array of int32\n",
        "        't': numpy array of float32\n",
        "        'hr': (optional) numpy array of float32\n",
        "    }\n",
        "    \n",
        "You are providing me a csv, which I read in as a pandas dataframe. Then I convert the pandas dataframe into the DeepSurv dataset format above. "
      ]
    },
    {
      "cell_type": "code",
      "metadata": {
        "jupyter": {
          "outputs_hidden": false
        },
        "id": "0dyZDgekBb9y",
        "colab_type": "code",
        "colab": {}
      },
      "source": [
        "# event_col is the header in the df that represents the 'Event / Status' indicator\n",
        "# time_col is the header in the df that represents the event time\n",
        "def dataframe_to_deepsurv_ds(df, event_col = 'Event', time_col = 'Time'):\n",
        "    # Extract the event and time columns as numpy arrays\n",
        "    e = df[event_col].values.astype(np.int32)\n",
        "    t = df[time_col].values.astype(np.float32)\n",
        "\n",
        "    # Extract the patient's covariates as a numpy array\n",
        "    x_df = df.drop([event_col, time_col], axis = 1)\n",
        "    x = x_df.values.astype(np.float32)\n",
        "    \n",
        "    # Return the deep surv dataframe\n",
        "    return {\n",
        "        'x' : x,\n",
        "        'e' : e,\n",
        "        't' : t\n",
        "    }\n",
        "\n",
        "# If the headers of the csv change, you can replace the values of \n",
        "# 'event_col' and 'time_col' with the names of the new headers\n",
        "# You can also use this function on your training dataset, validation dataset, and testing dataset\n",
        "train_data = dataframe_to_deepsurv_ds(train_df, event_col = 'Event', time_col= 'Time')"
      ],
      "execution_count": 0,
      "outputs": []
    },
    {
      "cell_type": "code",
      "metadata": {
        "id": "jlh5f3O4Bb90",
        "colab_type": "code",
        "colab": {},
        "outputId": "da6bd130-6839-4215-e2c6-2581d49d8ebc"
      },
      "source": [
        "train_data"
      ],
      "execution_count": 0,
      "outputs": [
        {
          "output_type": "execute_result",
          "data": {
            "text/plain": [
              "{'x': array([[0. , 3. , 2. , 4.6],\n",
              "        [0. , 2. , 0. , 1.6],\n",
              "        [0. , 3. , 0. , 3.5],\n",
              "        ...,\n",
              "        [0. , 3. , 0. , 3.1],\n",
              "        [0. , 2. , 0. , 1.8],\n",
              "        [0. , 2. , 0. , 2.3]], dtype=float32),\n",
              " 'e': array([1, 0, 1, ..., 0, 0, 1]),\n",
              " 't': array([43., 52., 73., ...,  4., 41., 33.], dtype=float32)}"
            ]
          },
          "metadata": {
            "tags": []
          },
          "execution_count": 4
        }
      ]
    },
    {
      "cell_type": "markdown",
      "metadata": {
        "id": "mGwXnaeWBb93",
        "colab_type": "text"
      },
      "source": [
        "Now once you have your dataset all formatted, define you hyper_parameters as a Python dictionary. \n",
        "I'll provide you with some example hyper-parameters, but you should replace the values once you tune them to your specific dataset"
      ]
    },
    {
      "cell_type": "code",
      "metadata": {
        "jupyter": {
          "outputs_hidden": false
        },
        "id": "Wx16QKWzBb94",
        "colab_type": "code",
        "colab": {}
      },
      "source": [
        "hyperparams = {\n",
        "    'L2_reg': 10.0,\n",
        "    'batch_norm': True,\n",
        "    'dropout': 0.4,\n",
        "    'hidden_layers_sizes': [25, 25],\n",
        "    'learning_rate': 1e-05,\n",
        "    'lr_decay': 0.001,\n",
        "    'momentum': 0.9,\n",
        "    'n_in': train_data['x'].shape[1],\n",
        "    'standardize': True\n",
        "}"
      ],
      "execution_count": 0,
      "outputs": []
    },
    {
      "cell_type": "markdown",
      "metadata": {
        "id": "s5bjF1-9Bb97",
        "colab_type": "text"
      },
      "source": [
        "Once you prepared your dataset, and defined your hyper-parameters. Now it's time to train DeepSurv!"
      ]
    },
    {
      "cell_type": "code",
      "metadata": {
        "jupyter": {
          "outputs_hidden": false
        },
        "scrolled": true,
        "id": "jaWSlHWABb98",
        "colab_type": "code",
        "colab": {},
        "outputId": "c0352780-0a68-4a57-e3ee-3c8ae98e1a5d"
      },
      "source": [
        "# Create an instance of DeepSurv using the hyperparams defined above\n",
        "model = deepsurv.DeepSurv(**hyperparams)\n",
        "\n",
        "# DeepSurv can now leverage TensorBoard to monitor training and validation\n",
        "# This section of code is optional. If you don't want to use the tensorboard logger\n",
        "# Uncomment the below line, and comment out the other three lines: \n",
        "# logger = None\n",
        "\n",
        "experiment_name = 'test_experiment_sebastian'\n",
        "logdir = './logs/tensorboard/'\n",
        "logger = TensorboardLogger(experiment_name, logdir=logdir)\n",
        "\n",
        "# Now we train the model\n",
        "update_fn=lasagne.updates.nesterov_momentum # The type of optimizer to use. \\\n",
        "                                            # Check out http://lasagne.readthedocs.io/en/latest/modules/updates.html \\\n",
        "                                            # for other optimizers to use\n",
        "n_epochs = 2000\n",
        "\n",
        "# If you have validation data, you can add it as the second parameter to the function\n",
        "metrics = model.train(train_data, n_epochs=n_epochs, logger=logger, update_fn=update_fn)"
      ],
      "execution_count": 0,
      "outputs": [
        {
          "output_type": "stream",
          "text": [
            "2019-10-24 16:00:22,473 - Training step 0/2000    |                         | - loss: 29.6443 - ci: 0.6516\n",
            "2019-10-24 16:01:03,438 - Training step 250/2000  |***                      | - loss: 13.4980 - ci: 0.5846\n",
            "2019-10-24 16:01:44,873 - Training step 500/2000  |******                   | - loss: 8.7325 - ci: 0.6047\n",
            "2019-10-24 16:02:25,522 - Training step 750/2000  |*********                | - loss: 7.0429 - ci: 0.6293\n",
            "2019-10-24 16:03:06,027 - Training step 1000/2000 |************             | - loss: 6.4680 - ci: 0.6448\n",
            "2019-10-24 16:03:47,033 - Training step 1250/2000 |***************          | - loss: 6.2796 - ci: 0.6528\n",
            "2019-10-24 16:04:26,620 - Training step 1500/2000 |******************       | - loss: 6.2111 - ci: 0.6823\n",
            "2019-10-24 16:05:08,402 - Training step 1750/2000 |*********************    | - loss: 6.1830 - ci: 0.6972\n",
            "2019-10-24 16:05:50,052 - Finished Training with 2000 iterations in 329.02s\n"
          ],
          "name": "stdout"
        }
      ]
    },
    {
      "cell_type": "markdown",
      "metadata": {
        "id": "xKbv5SPvBb9_",
        "colab_type": "text"
      },
      "source": [
        "There are two different ways to visualzie how the model trained:\n",
        "\n",
        "- Tensorboard (install ()[tensorboard]) which provides realtime metrics. Run the command in shell:\n",
        "   \n",
        "   `tensorboard --logdir './logs/tensorboard'`\n",
        "     \n",
        "     \n",
        "- Visualize the training functions post training (below)"
      ]
    },
    {
      "cell_type": "code",
      "metadata": {
        "jupyter": {
          "outputs_hidden": false
        },
        "id": "RNskIyulBb-A",
        "colab_type": "code",
        "colab": {},
        "outputId": "0d8ca522-71b7-4bff-911a-d5ec33aa471f"
      },
      "source": [
        "# Print the final metrics\n",
        "print('Train C-Index:', metrics['c-index'][-1])\n",
        "# print('Valid C-Index: ',metrics['valid_c-index'][-1])\n",
        "\n",
        "# Plot the training / validation curves\n",
        "viz.plot_log(metrics)"
      ],
      "execution_count": 0,
      "outputs": [
        {
          "output_type": "stream",
          "text": [
            "Train C-Index: (1999, 0.6964835748425764)\n"
          ],
          "name": "stdout"
        },
        {
          "output_type": "display_data",
          "data": {
            "image/png": "[encoded data removed]",
            "text/plain": [
              "<Figure size 432x288 with 1 Axes>"
            ]
          },
          "metadata": {
            "tags": [],
            "needs_background": "light"
          }
        },
        {
          "output_type": "display_data",
          "data": {
            "image/png": "[encoded data removed]",
            "text/plain": [
              "<Figure size 432x288 with 1 Axes>"
            ]
          },
          "metadata": {
            "tags": [],
            "needs_background": "light"
          }
        }
      ]
    }
  ]
}